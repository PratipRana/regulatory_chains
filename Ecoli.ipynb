{
 "cells": [
  {
   "cell_type": "code",
   "execution_count": 1,
   "metadata": {},
   "outputs": [],
   "source": [
    "import numpy as np\n",
    "import pandas as pd\n",
    "import networkx as nx\n",
    "import matplotlib.pyplot as plt"
   ]
  },
  {
   "cell_type": "code",
   "execution_count": 2,
   "metadata": {},
   "outputs": [],
   "source": [
    "df = pd.read_csv(\"data/Ecoli_LCC.txt\", sep='\\t')"
   ]
  },
  {
   "cell_type": "code",
   "execution_count": 3,
   "metadata": {},
   "outputs": [],
   "source": [
    "df = df.drop(['Regulation Type'],axis=1)"
   ]
  },
  {
   "cell_type": "code",
   "execution_count": 4,
   "metadata": {},
   "outputs": [
    {
     "data": {
      "text/html": [
       "<div>\n",
       "<style>\n",
       "    .dataframe thead tr:only-child th {\n",
       "        text-align: right;\n",
       "    }\n",
       "\n",
       "    .dataframe thead th {\n",
       "        text-align: left;\n",
       "    }\n",
       "\n",
       "    .dataframe tbody tr th {\n",
       "        vertical-align: top;\n",
       "    }\n",
       "</style>\n",
       "<table border=\"1\" class=\"dataframe\">\n",
       "  <thead>\n",
       "    <tr style=\"text-align: right;\">\n",
       "      <th></th>\n",
       "      <th>Regulator</th>\n",
       "      <th>Target</th>\n",
       "    </tr>\n",
       "  </thead>\n",
       "  <tbody>\n",
       "    <tr>\n",
       "      <th>0</th>\n",
       "      <td>acrR</td>\n",
       "      <td>acrR</td>\n",
       "    </tr>\n",
       "    <tr>\n",
       "      <th>1</th>\n",
       "      <td>acrR</td>\n",
       "      <td>acrA</td>\n",
       "    </tr>\n",
       "    <tr>\n",
       "      <th>2</th>\n",
       "      <td>acrR</td>\n",
       "      <td>acrB</td>\n",
       "    </tr>\n",
       "    <tr>\n",
       "      <th>3</th>\n",
       "      <td>acrR</td>\n",
       "      <td>micF</td>\n",
       "    </tr>\n",
       "    <tr>\n",
       "      <th>4</th>\n",
       "      <td>ada</td>\n",
       "      <td>alkA</td>\n",
       "    </tr>\n",
       "  </tbody>\n",
       "</table>\n",
       "</div>"
      ],
      "text/plain": [
       "  Regulator Target\n",
       "0      acrR   acrR\n",
       "1      acrR   acrA\n",
       "2      acrR   acrB\n",
       "3      acrR   micF\n",
       "4       ada   alkA"
      ]
     },
     "execution_count": 4,
     "metadata": {},
     "output_type": "execute_result"
    }
   ],
   "source": [
    "df.head()"
   ]
  },
  {
   "cell_type": "code",
   "execution_count": 5,
   "metadata": {},
   "outputs": [],
   "source": [
    "G = nx.from_pandas_edgelist(df, 'Regulator', 'Target', create_using=nx.DiGraph())"
   ]
  },
  {
   "cell_type": "code",
   "execution_count": 6,
   "metadata": {},
   "outputs": [
    {
     "name": "stdout",
     "output_type": "stream",
     "text": [
      "True 1464 3447\n"
     ]
    }
   ],
   "source": [
    "print(G.is_directed(), len(G.nodes), len(G.edges()))"
   ]
  },
  {
   "cell_type": "code",
   "execution_count": 7,
   "metadata": {},
   "outputs": [],
   "source": [
    "# deleting self-loop edges\n",
    "for n, nbrs in G.adj.items():\n",
    "    if n in nbrs:\n",
    "        G.remove_edge(n,n)"
   ]
  },
  {
   "cell_type": "code",
   "execution_count": 8,
   "metadata": {},
   "outputs": [
    {
     "name": "stdout",
     "output_type": "stream",
     "text": [
      "True 1464 3362\n"
     ]
    }
   ],
   "source": [
    "print(G.is_directed(), len(G.nodes), len(G.edges()))"
   ]
  },
  {
   "cell_type": "markdown",
   "metadata": {},
   "source": [
    "### 3 nodes chain"
   ]
  },
  {
   "cell_type": "code",
   "execution_count": 9,
   "metadata": {
    "scrolled": false
   },
   "outputs": [
    {
     "name": "stdout",
     "output_type": "stream",
     "text": [
      "crp feaR feaB\n",
      "marA putA putP\n"
     ]
    }
   ],
   "source": [
    "node_set = set() # to save the node list\n",
    "for node1 in G.nodes:\n",
    "    for node2 in G.neighbors(node1):\n",
    "        if (G.out_degree(node2)>1 or G.out_degree(node2)>1 or node2==node1):\n",
    "            continue\n",
    "        else:\n",
    "            for node3 in G.neighbors(node2):\n",
    "                if(node3 not in [node1, node2] and (node3 not in G.neighbors(node1))): \n",
    "                    print(node1, node2, node3)\n",
    "                    node_set.add(node1); node_set.add(node2); node_set.add(node3);"
   ]
  },
  {
   "cell_type": "markdown",
   "metadata": {},
   "source": [
    "### Plotting"
   ]
  },
  {
   "cell_type": "code",
   "execution_count": 10,
   "metadata": {},
   "outputs": [
    {
     "data": {
      "image/png": "[encoded data removed]",
      "text/plain": [
       "<Figure size 432x288 with 1 Axes>"
      ]
     },
     "metadata": {},
     "output_type": "display_data"
    }
   ],
   "source": [
    "H = G.subgraph(list(node_set))\n",
    "pos = nx.circular_layout(H)\n",
    "nx.draw(H, pos, cmap = plt.get_cmap('jet'), node_size = 2000)\n",
    "nx.draw_networkx_labels(H, pos)\n",
    "plt.show()"
   ]
  },
  {
   "cell_type": "markdown",
   "metadata": {},
   "source": [
    "### 3 nodes chain excluding common regulator "
   ]
  },
  {
   "cell_type": "code",
   "execution_count": 43,
   "metadata": {},
   "outputs": [],
   "source": [
    "def common_regulator(G, node1, node2):\n",
    "    in_node1 = [a[0] for a in G.in_edges(node1)]\n",
    "    in_node2 = [b[0] for b in G.in_edges(node2)]\n",
    "    for i in in_node1:\n",
    "        if i in in_node2:\n",
    "            return True\n",
    "        return False"
   ]
  },
  {
   "cell_type": "code",
   "execution_count": 44,
   "metadata": {},
   "outputs": [
    {
     "data": {
      "text/plain": [
       "True"
      ]
     },
     "execution_count": 44,
     "metadata": {},
     "output_type": "execute_result"
    }
   ],
   "source": [
    "common_regulator(G,'marA','putP')"
   ]
  },
  {
   "cell_type": "code",
   "execution_count": 45,
   "metadata": {},
   "outputs": [
    {
     "name": "stdout",
     "output_type": "stream",
     "text": [
      "crp feaR feaB\n"
     ]
    }
   ],
   "source": [
    "node_set = set() # to save the node list\n",
    "for node1 in G.nodes:\n",
    "    for node2 in G.neighbors(node1):\n",
    "        if (G.out_degree(node2)>1 or G.out_degree(node2)>1 or node2==node1):\n",
    "            continue\n",
    "        else:\n",
    "            for node3 in G.neighbors(node2):\n",
    "                if(node3 not in [node1, node2] and (node3 not in G.neighbors(node1)) and not(common_regulator(G, node1, node3))): \n",
    "                    print(node1, node2, node3)\n",
    "                    node_set.add(node1); node_set.add(node2); node_set.add(node3);"
   ]
  },
  {
   "cell_type": "code",
   "execution_count": 46,
   "metadata": {},
   "outputs": [
    {
     "data": {
      "image/png": "[encoded data removed]",
      "text/plain": [
       "<Figure size 432x288 with 1 Axes>"
      ]
     },
     "metadata": {},
     "output_type": "display_data"
    }
   ],
   "source": [
    "H = G.subgraph(list(node_set))\n",
    "pos = nx.circular_layout(H)\n",
    "nx.draw(H, pos, cmap = plt.get_cmap('jet'), node_size = 2000)\n",
    "nx.draw_networkx_labels(H, pos)\n",
    "plt.show()"
   ]
  },
  {
   "cell_type": "markdown",
   "metadata": {},
   "source": [
    "### 4 nodes chain"
   ]
  },
  {
   "cell_type": "code",
   "execution_count": 54,
   "metadata": {},
   "outputs": [],
   "source": [
    "# pattern 2 search\n",
    "for node1 in G.nodes:\n",
    "    for node2 in G.neighbors(node1):\n",
    "        if (G.out_degree(node2)>1 or G.out_degree(node2)>1 or node2==node1):\n",
    "            continue\n",
    "        else:\n",
    "            for node3 in G.neighbors(node2):\n",
    "                if (G.out_degree(node3)>1 or G.out_degree(node3)>1 or node3 in [node1, node2]):\n",
    "                    continue\n",
    "                else:\n",
    "                    for node4 in G.neighbors(node3):\n",
    "                        if(node4 not in [node1, node2, node3] and (node4 not in G.neighbors(node1))):\n",
    "                            print(node1, node2, node3, node4)"
   ]
  },
  {
   "cell_type": "markdown",
   "metadata": {},
   "source": [
    "Comment: No 4 node chain found"
   ]
  },
  {
   "cell_type": "markdown",
   "metadata": {},
   "source": [
    "### 5 nodes chain"
   ]
  },
  {
   "cell_type": "code",
   "execution_count": 55,
   "metadata": {},
   "outputs": [],
   "source": [
    "# pattern 2 search\n",
    "for node1 in G.nodes:\n",
    "    for node2 in G.neighbors(node1):\n",
    "        if (G.out_degree(node2)>1 or G.out_degree(node2)>1 or node2==node1):\n",
    "            continue\n",
    "        else:\n",
    "            for node3 in G.neighbors(node2):\n",
    "                if (G.out_degree(node3)>1 or G.out_degree(node3)>1 or node3 in [node1, node2]):\n",
    "                    continue\n",
    "                else:\n",
    "                    for node4 in G.neighbors(node3):\n",
    "                        if (G.out_degree(node4)>1 or G.out_degree(node4)>1 or node4 in [node1, node2, node3]):\n",
    "                            continue\n",
    "                        else:\n",
    "                            for node5 in G.neighbors(node4):\n",
    "                                if(node4 not in [node1, node2, node3, node4] and (node5 not in G.neighbors(node1))):\n",
    "                                    print(node1, node2, node3, node4, node5)                            "
   ]
  },
  {
   "cell_type": "markdown",
   "metadata": {},
   "source": [
    "Comment: No pattern 2 path found"
   ]
  }
 ],
 "metadata": {
  "kernelspec": {
   "display_name": "Python 3",
   "language": "python",
   "name": "python3"
  },
  "language_info": {
   "codemirror_mode": {
    "name": "ipython",
    "version": 3
   },
   "file_extension": ".py",
   "mimetype": "text/x-python",
   "name": "python",
   "nbconvert_exporter": "python",
   "pygments_lexer": "ipython3",
   "version": "3.8.0"
  }
 },
 "nbformat": 4,
 "nbformat_minor": 2
}
